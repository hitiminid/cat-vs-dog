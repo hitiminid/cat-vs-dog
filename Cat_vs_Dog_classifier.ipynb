{
 "cells": [
  {
   "cell_type": "markdown",
   "metadata": {},
   "source": [
    "# Cat vs. Dog Classifier\n",
    "\n",
    "\n",
    "The goal of this exercise is to create a classifier that predicts whether a given image contains a cat or a dog.\n",
    "The dataset that has been used comes from https://www.superdatascience.com/pages/deep-learning."
   ]
  },
  {
   "cell_type": "code",
   "execution_count": 1,
   "metadata": {},
   "outputs": [
    {
     "name": "stderr",
     "output_type": "stream",
     "text": [
      "Using TensorFlow backend.\n"
     ]
    }
   ],
   "source": [
    "import pdb\n",
    "import numpy as np\n",
    "\n",
    "import tensorflow as tf\n",
    "import matplotlib.pyplot as plt\n",
    "\n",
    "import keras\n",
    "from keras.models import Sequential, load_model\n",
    "from keras.layers import Convolution2D, MaxPooling2D, Flatten, Dense, Dropout, Conv2D, Activation\n",
    "from keras.preprocessing import image"
   ]
  },
  {
   "cell_type": "markdown",
   "metadata": {},
   "source": [
    "# Preparations of dataset"
   ]
  },
  {
   "cell_type": "markdown",
   "metadata": {},
   "source": [
    "## Images Augmentation\n",
    "The provided dataset is not big, in order to increase its size data augentation can be used.\n",
    "It applies various transformation to the images so the number of them and their diversity increases."
   ]
  },
  {
   "cell_type": "code",
   "execution_count": 2,
   "metadata": {},
   "outputs": [],
   "source": [
    "train_datagen = image.ImageDataGenerator(\n",
    "        rescale=1./255,\n",
    "        shear_range=0.2,\n",
    "        zoom_range=0.2,\n",
    "        horizontal_flip=True)\n",
    "\n",
    "test_datagen = image.ImageDataGenerator(rescale=1./255)"
   ]
  },
  {
   "cell_type": "code",
   "execution_count": 3,
   "metadata": {},
   "outputs": [
    {
     "name": "stdout",
     "output_type": "stream",
     "text": [
      "Found 8000 images belonging to 2 classes.\n",
      "Found 2000 images belonging to 2 classes.\n"
     ]
    }
   ],
   "source": [
    "train_set_path = 'dataset/training_set'\n",
    "test_set_path = 'dataset/test_set'\n",
    "\n",
    "train_set = train_datagen.flow_from_directory(\n",
    "        train_set_path,\n",
    "        target_size=(64, 64),\n",
    "        batch_size=32,\n",
    "        class_mode='binary')\n",
    "\n",
    "test_set = test_datagen.flow_from_directory(\n",
    "        test_set_path,\n",
    "        target_size=(64, 64),\n",
    "        batch_size=32,\n",
    "        class_mode='binary')\n"
   ]
  },
  {
   "cell_type": "markdown",
   "metadata": {},
   "source": [
    "# Neural Network\n",
    "\n",
    "In order to fullfil this task, a neural network was used. It was built using **Keras** framework (\n",
    "https://keras.io/ ).\n",
    "\n",
    "Images may consist of humongous number of pixels - a FHD image (1920 x 1080) consists of over **2 millions pixels**. This number is way to big to be considered as an input to Artificial Neural Network.\n",
    "\n",
    "Fortunately **Convolutional Neural Networks** are the **solution** for these kinds of challenges. Such network consists of two types of the layers that are located at the beginning of the network:\n",
    "* convolution layers,\n",
    "* pooling layers (either average or maximum).\n",
    "\n",
    "They respectively: \n",
    "* try to capture (and enhance) the 'essence' of the images that is interesting for us - this is done by applying various filters to an image (for instance sharpening ones),\n",
    "* decrease the dimensionality of the data - for instance by replacing each 2x2 square of an image by mean of these values."
   ]
  },
  {
   "cell_type": "markdown",
   "metadata": {},
   "source": [
    "## Model\n",
    "The model that was used to perform a task consisted of the following layers:\n",
    "1. Convolution\n",
    "2. MaxPooling\n",
    "\n",
    "3. Convolution\n",
    "4. MaxPooling\n",
    "\n",
    "5. Convolution\n",
    "6. MaxPooling   \n",
    "\n",
    "7. Flatten\n",
    "8. Dense (128 nodes)\n",
    "\n",
    "9. Dropout (50%) - for the sake of regularization\n",
    "10. Output (1 node)\n",
    "\n",
    "\n",
    "Since it is a binary classification problem `binary_crossentropy` loss function was used, the optimizer was `adam`."
   ]
  },
  {
   "cell_type": "code",
   "execution_count": 4,
   "metadata": {},
   "outputs": [
    {
     "name": "stderr",
     "output_type": "stream",
     "text": [
      "WARNING: Logging before flag parsing goes to stderr.\n",
      "W0705 14:14:05.507570 140551652645760 deprecation_wrapper.py:119] From /home/pietrek/ML/CNN/venv/lib/python3.6/site-packages/keras/backend/tensorflow_backend.py:74: The name tf.get_default_graph is deprecated. Please use tf.compat.v1.get_default_graph instead.\n",
      "\n",
      "W0705 14:14:05.523517 140551652645760 deprecation_wrapper.py:119] From /home/pietrek/ML/CNN/venv/lib/python3.6/site-packages/keras/backend/tensorflow_backend.py:517: The name tf.placeholder is deprecated. Please use tf.compat.v1.placeholder instead.\n",
      "\n",
      "W0705 14:14:05.526270 140551652645760 deprecation_wrapper.py:119] From /home/pietrek/ML/CNN/venv/lib/python3.6/site-packages/keras/backend/tensorflow_backend.py:4138: The name tf.random_uniform is deprecated. Please use tf.random.uniform instead.\n",
      "\n",
      "W0705 14:14:05.543729 140551652645760 deprecation_wrapper.py:119] From /home/pietrek/ML/CNN/venv/lib/python3.6/site-packages/keras/backend/tensorflow_backend.py:3976: The name tf.nn.max_pool is deprecated. Please use tf.nn.max_pool2d instead.\n",
      "\n",
      "W0705 14:14:05.596943 140551652645760 deprecation_wrapper.py:119] From /home/pietrek/ML/CNN/venv/lib/python3.6/site-packages/keras/backend/tensorflow_backend.py:133: The name tf.placeholder_with_default is deprecated. Please use tf.compat.v1.placeholder_with_default instead.\n",
      "\n",
      "W0705 14:14:05.605696 140551652645760 deprecation.py:506] From /home/pietrek/ML/CNN/venv/lib/python3.6/site-packages/keras/backend/tensorflow_backend.py:3445: calling dropout (from tensorflow.python.ops.nn_ops) with keep_prob is deprecated and will be removed in a future version.\n",
      "Instructions for updating:\n",
      "Please use `rate` instead of `keep_prob`. Rate should be set to `rate = 1 - keep_prob`.\n",
      "W0705 14:14:05.633818 140551652645760 deprecation_wrapper.py:119] From /home/pietrek/ML/CNN/venv/lib/python3.6/site-packages/keras/optimizers.py:790: The name tf.train.Optimizer is deprecated. Please use tf.compat.v1.train.Optimizer instead.\n",
      "\n",
      "W0705 14:14:05.655688 140551652645760 deprecation_wrapper.py:119] From /home/pietrek/ML/CNN/venv/lib/python3.6/site-packages/keras/backend/tensorflow_backend.py:3376: The name tf.log is deprecated. Please use tf.math.log instead.\n",
      "\n",
      "W0705 14:14:05.660611 140551652645760 deprecation.py:323] From /home/pietrek/ML/CNN/venv/lib/python3.6/site-packages/tensorflow/python/ops/nn_impl.py:180: add_dispatch_support.<locals>.wrapper (from tensorflow.python.ops.array_ops) is deprecated and will be removed in a future version.\n",
      "Instructions for updating:\n",
      "Use tf.where in 2.0, which has the same broadcast rule as np.where\n"
     ]
    }
   ],
   "source": [
    "def create_model(num_classes=2):\n",
    "\n",
    "    model = Sequential()\n",
    "\n",
    "    model.add(Convolution2D(32, (3, 3), input_shape=(64, 64, 3), activation='relu'))\n",
    "    model.add(MaxPooling2D(pool_size=(2, 2)))\n",
    "    \n",
    "    model.add(Convolution2D(64, (3, 3), activation='relu'))\n",
    "    model.add(MaxPooling2D(pool_size=(2, 2)))\n",
    "    \n",
    "    model.add(Convolution2D(128, (3, 3), activation='relu'))\n",
    "    model.add(MaxPooling2D(pool_size=(2, 2)))\n",
    "\n",
    "    model.add(Flatten())\n",
    "    model.add(Dense(128, activation='relu'))\n",
    "    \n",
    "    model.add(Dropout(0.4))\n",
    "    model.add(Dense(1, activation='sigmoid'))\n",
    "\n",
    "    model.compile(loss='binary_crossentropy', optimizer='adam', metrics=['accuracy'])\n",
    "    return model\n",
    "\n",
    "\n",
    "model = create_model()"
   ]
  },
  {
   "cell_type": "code",
   "execution_count": 5,
   "metadata": {},
   "outputs": [
    {
     "name": "stdout",
     "output_type": "stream",
     "text": [
      "_________________________________________________________________\n",
      "Layer (type)                 Output Shape              Param #   \n",
      "=================================================================\n",
      "conv2d_1 (Conv2D)            (None, 62, 62, 32)        896       \n",
      "_________________________________________________________________\n",
      "max_pooling2d_1 (MaxPooling2 (None, 31, 31, 32)        0         \n",
      "_________________________________________________________________\n",
      "conv2d_2 (Conv2D)            (None, 29, 29, 32)        9248      \n",
      "_________________________________________________________________\n",
      "max_pooling2d_2 (MaxPooling2 (None, 14, 14, 32)        0         \n",
      "_________________________________________________________________\n",
      "conv2d_3 (Conv2D)            (None, 12, 12, 128)       36992     \n",
      "_________________________________________________________________\n",
      "max_pooling2d_3 (MaxPooling2 (None, 6, 6, 128)         0         \n",
      "_________________________________________________________________\n",
      "flatten_1 (Flatten)          (None, 4608)              0         \n",
      "_________________________________________________________________\n",
      "dense_1 (Dense)              (None, 128)               589952    \n",
      "_________________________________________________________________\n",
      "dropout_1 (Dropout)          (None, 128)               0         \n",
      "_________________________________________________________________\n",
      "dense_2 (Dense)              (None, 1)                 129       \n",
      "=================================================================\n",
      "Total params: 637,217\n",
      "Trainable params: 637,217\n",
      "Non-trainable params: 0\n",
      "_________________________________________________________________\n"
     ]
    }
   ],
   "source": [
    "model.summary()"
   ]
  },
  {
   "cell_type": "markdown",
   "metadata": {},
   "source": [
    "### Keras Callbacks\n",
    "Since training of the neural network takes a really long time, it is a good idea to save the progress of this process.   \n",
    "Fortunately Keras has an adequate feature - callbacks. This requires only creating of the callback object that will contain an adequate method - in this case `on_epoch_end` due to the fact, that the progress will be saved each time an epoch ends."
   ]
  },
  {
   "cell_type": "code",
   "execution_count": 6,
   "metadata": {},
   "outputs": [],
   "source": [
    "class ModelSaver(keras.callbacks.Callback):\n",
    "    def on_epoch_end(self, epoch, logs={}):\n",
    "        self.model.save(f'model_{epoch}.hd5')"
   ]
  },
  {
   "cell_type": "markdown",
   "metadata": {},
   "source": [
    "### Train the network..."
   ]
  },
  {
   "cell_type": "code",
   "execution_count": 8,
   "metadata": {
    "scrolled": true
   },
   "outputs": [
    {
     "name": "stdout",
     "output_type": "stream",
     "text": [
      "Epoch 1/20\n",
      "8000/8000 [==============================] - 1706s 213ms/step - loss: 0.3070 - acc: 0.8662 - val_loss: 0.3943 - val_acc: 0.8490\n",
      "Epoch 2/20\n",
      "8000/8000 [==============================] - 1790s 224ms/step - loss: 0.1618 - acc: 0.9347 - val_loss: 0.5746 - val_acc: 0.8620\n",
      "Epoch 3/20\n",
      "8000/8000 [==============================] - 1705s 213ms/step - loss: 0.1143 - acc: 0.9558 - val_loss: 0.6514 - val_acc: 0.8533\n",
      "Epoch 4/20\n",
      "8000/8000 [==============================] - 1705s 213ms/step - loss: 0.0919 - acc: 0.9657 - val_loss: 0.6465 - val_acc: 0.8553\n",
      "Epoch 5/20\n",
      "8000/8000 [==============================] - 1786s 223ms/step - loss: 0.0790 - acc: 0.9706 - val_loss: 0.6677 - val_acc: 0.8579\n",
      "Epoch 6/20\n",
      "8000/8000 [==============================] - 1671s 209ms/step - loss: 0.0683 - acc: 0.9751 - val_loss: 0.6535 - val_acc: 0.8624\n",
      "Epoch 7/20\n",
      "8000/8000 [==============================] - 1671s 209ms/step - loss: 0.0621 - acc: 0.9774 - val_loss: 0.6782 - val_acc: 0.8656\n",
      "Epoch 8/20\n",
      "8000/8000 [==============================] - 1712s 214ms/step - loss: 0.0555 - acc: 0.9799 - val_loss: 0.6920 - val_acc: 0.8623\n",
      "Epoch 9/20\n",
      "8000/8000 [==============================] - 1796s 224ms/step - loss: 0.0523 - acc: 0.9812 - val_loss: 0.7091 - val_acc: 0.8675\n",
      "Epoch 10/20\n",
      "8000/8000 [==============================] - 2059s 257ms/step - loss: 0.0484 - acc: 0.9831 - val_loss: 0.8213 - val_acc: 0.8476\n",
      "Epoch 11/20\n",
      "8000/8000 [==============================] - 1806s 226ms/step - loss: 0.0464 - acc: 0.9835 - val_loss: 0.7903 - val_acc: 0.8530\n",
      "Epoch 12/20\n",
      "8000/8000 [==============================] - 1800s 225ms/step - loss: 0.0435 - acc: 0.9847 - val_loss: 0.8043 - val_acc: 0.8569\n",
      "Epoch 13/20\n",
      "8000/8000 [==============================] - 1671s 209ms/step - loss: 0.0418 - acc: 0.9854 - val_loss: 0.8913 - val_acc: 0.8529\n",
      "Epoch 14/20\n",
      "8000/8000 [==============================] - 1707s 213ms/step - loss: 0.0407 - acc: 0.9859 - val_loss: 0.9229 - val_acc: 0.8543\n",
      "Epoch 15/20\n",
      "8000/8000 [==============================] - 1717s 215ms/step - loss: 0.0403 - acc: 0.9861 - val_loss: 0.8980 - val_acc: 0.8518\n",
      "Epoch 16/20\n",
      "8000/8000 [==============================] - 1700s 212ms/step - loss: 0.0391 - acc: 0.9865 - val_loss: 0.8888 - val_acc: 0.8510\n",
      "Epoch 17/20\n",
      "8000/8000 [==============================] - 1692s 212ms/step - loss: 0.0385 - acc: 0.9870 - val_loss: 0.8954 - val_acc: 0.8602\n",
      "Epoch 18/20\n",
      "8000/8000 [==============================] - 1710s 214ms/step - loss: 0.0382 - acc: 0.9873 - val_loss: 0.8522 - val_acc: 0.8604\n",
      "Epoch 19/20\n",
      "8000/8000 [==============================] - 1756s 219ms/step - loss: 0.0373 - acc: 0.9874 - val_loss: 0.8685 - val_acc: 0.8490\n",
      "Epoch 20/20\n",
      "8000/8000 [==============================] - 1764s 220ms/step - loss: 0.0369 - acc: 0.9878 - val_loss: 1.1732 - val_acc: 0.8556\n"
     ]
    }
   ],
   "source": [
    "batch_size = 32\n",
    "validation_samples = 2000\n",
    "train_samples = 8000\n",
    "\n",
    "history = model.fit_generator(\n",
    "        train_set,\n",
    "        steps_per_epoch=train_samples,\n",
    "        epochs=20,\n",
    "        callbacks=[ModelSaver()],\n",
    "        validation_data=test_set,\n",
    "        validation_steps=validation_samples,\n",
    "        workers=1,\n",
    "        use_multiprocessing=False\n",
    ")"
   ]
  },
  {
   "cell_type": "markdown",
   "metadata": {},
   "source": [
    "### ... or load it"
   ]
  },
  {
   "cell_type": "code",
   "execution_count": null,
   "metadata": {},
   "outputs": [],
   "source": [
    "model = load_model('model.h5')"
   ]
  },
  {
   "cell_type": "markdown",
   "metadata": {},
   "source": [
    "## Visualise history \n",
    "`fit_generator` method that is used in network's training process returns a `History` object. It can be used to get an insight into the training process (in particular its efficiency) throughout the epochs.\n",
    "\n",
    "The attributes of the object make visualization of this process pretty straightforward."
   ]
  },
  {
   "cell_type": "code",
   "execution_count": 11,
   "metadata": {},
   "outputs": [
    {
     "data": {
      "image/png": "[encoded data removed]",
      "text/plain": [
       "<Figure size 432x288 with 1 Axes>"
      ]
     },
     "metadata": {
      "needs_background": "light"
     },
     "output_type": "display_data"
    }
   ],
   "source": [
    "plt.plot(history.history['acc'])\n",
    "plt.plot(history.history['val_acc'])\n",
    "plt.title('Model accuracy')\n",
    "plt.ylabel('Accuracy')\n",
    "plt.xlabel('Epoch')\n",
    "plt.legend(['Train', 'Test'], loc='upper left')\n",
    "plt.show()"
   ]
  },
  {
   "cell_type": "code",
   "execution_count": 12,
   "metadata": {},
   "outputs": [
    {
     "data": {
      "image/png": "[encoded data removed]",
      "text/plain": [
       "<Figure size 432x288 with 1 Axes>"
      ]
     },
     "metadata": {
      "needs_background": "light"
     },
     "output_type": "display_data"
    }
   ],
   "source": [
    "plt.plot(history.history['loss'])\n",
    "plt.plot(history.history['val_loss'])\n",
    "plt.title('Model loss')\n",
    "plt.ylabel('Loss')\n",
    "plt.xlabel('Epoch')\n",
    "plt.legend(['Train', 'Test'], loc='upper left')\n",
    "plt.show()"
   ]
  },
  {
   "cell_type": "markdown",
   "metadata": {},
   "source": [
    "The visualisation and the values that were displayed in logs during the training process "
   ]
  },
  {
   "cell_type": "markdown",
   "metadata": {},
   "source": [
    "# Prediction on own images\n",
    "From this point it is fairly easy to create a program that will perform a prediciton on an images provided by user. First step to do that is to save the model - this will allow to get the response immediately, instead of traininig the classifier each time."
   ]
  },
  {
   "cell_type": "markdown",
   "metadata": {},
   "source": [
    "## 1) Save the model\n",
    "Saving the model using Keras is really straightforward - it requires running `save()` method on the model's object with model's path as its parameter."
   ]
  },
  {
   "cell_type": "code",
   "execution_count": 13,
   "metadata": {},
   "outputs": [],
   "source": [
    "model.save('model.h5')"
   ]
  },
  {
   "cell_type": "markdown",
   "metadata": {},
   "source": [
    "## 2) Get and convert images\n",
    "\n",
    "Section below contains a code that performs some manipulations on an image in order to be able to perform a prediction on it.   \n",
    "\n",
    "The manipulations work as follows:   \n",
    "1. Load an image from the disk and resize it properly - created network takes 64x64 images.\n",
    "2. Convert it to an array.  \n",
    "3. Add additional dimension - it is required since the neural network requires a tensor containing four dimensions."
   ]
  },
  {
   "cell_type": "code",
   "execution_count": 14,
   "metadata": {},
   "outputs": [],
   "source": [
    "image_path = 'dataset/single_prediction/cat.jpg'\n",
    "\n",
    "test_image = image.load_img(image_path, target_size = (64, 64))\n",
    "test_image = image.img_to_array(test_image)\n",
    "test_image = np.expand_dims(test_image, axis=0)"
   ]
  },
  {
   "cell_type": "markdown",
   "metadata": {},
   "source": [
    "## 3) Run the prediction\n",
    "Once an image is loaded and converted to an adequate representation, it is possible to perform a prediction. In order to do that method `predict()` is run.\n",
    "The output is an array containing predicted class - in this case `1` denotes class `dog`, `0` - `cat`."
   ]
  },
  {
   "cell_type": "code",
   "execution_count": 20,
   "metadata": {},
   "outputs": [
    {
     "name": "stdout",
     "output_type": "stream",
     "text": [
      "It is a cat!\n"
     ]
    }
   ],
   "source": [
    "result = model.predict(test_image)[0][0] # image of a cat\n",
    "if result == 1:\n",
    "    print('It is a dog!')\n",
    "else: \n",
    "    print('It is a cat!')"
   ]
  },
  {
   "cell_type": "markdown",
   "metadata": {},
   "source": [
    "## 4) Standalone program\n",
    "Feel free to check program `animal_predictor.py` that is located in the same directory as this notebook.  It is a simple command line application that contains the whole functionality of predicting the animal on the provided image."
   ]
  },
  {
   "cell_type": "markdown",
   "metadata": {},
   "source": [
    "### 4a) Instruction\n",
    "To perform a prediction `animal_predictor.py` requires path to the image that is denoted as `--image {path_to_an_image}`.<br>\n",
    "Path to the model is specified by default (`model.h5`), to use another path please specify argument `--model {path_to_model}`.\n",
    "\n",
    "Example usage: `python animal_predictor.py --image 'dataset/dog_image.jpg' --model 'model.h5'`"
   ]
  },
  {
   "cell_type": "markdown",
   "metadata": {},
   "source": [
    "# Conclusions\n",
    "Created network had the accuracy of 98% on training and 85% on validation set. \n",
    "The **difference between accuracies** clearly indicates the presence of **overfitting**."
   ]
  },
  {
   "cell_type": "markdown",
   "metadata": {},
   "source": [
    "## Future work \n",
    "The current state of work may be good enough, but there still possible solutions that may increase the quality.\n",
    "\n",
    "* **Even the fanciest algorithm is as good as the data that it uses** - in other words, the quality of the solution might be increased by using better dataset that:<br>\n",
    "  * has more images, that cover the set of species better - for instance if no dog of Corgi breed is in datasets, the predicition on this breed might be invalid\n",
    "  \n",
    "\n",
    "* **Reduce overfitting** - there are some ways to prevent the neural network from overfitting, for instance: <br>\n",
    "  * add / change dropout - this technique assigns to each and every unit of the network some given probability that denotes the chance of ignoring its value in computations,\n",
    "  * early stopping - interrupt the process of training once the model starts to overfit (this can be achieved with Keras callbacks),\n",
    "  * increase the quality of the dataset.\n",
    "\n",
    "\n",
    "* **Find better parameters** - the presented network has been created using fixed parameters, there are methods such as Grid and Random Search that are used in order to find parameters. One could check the influence of different:<br>\n",
    "  * batch sizes,\n",
    "  * optimizer functions,\n",
    "  * dropout,\n",
    "  * number of layers, \n",
    "  * number of convolutions,\n",
    "  * type of pooling (both kernel size and average / maximum types)."
   ]
  }
 ],
 "metadata": {
  "kernelspec": {
   "display_name": "Python 3",
   "language": "python",
   "name": "python3"
  },
  "language_info": {
   "codemirror_mode": {
    "name": "ipython",
    "version": 3
   },
   "file_extension": ".py",
   "mimetype": "text/x-python",
   "name": "python",
   "nbconvert_exporter": "python",
   "pygments_lexer": "ipython3",
   "version": "3.6.6"
  }
 },
 "nbformat": 4,
 "nbformat_minor": 2
}
